{
 "cells": [
  {
   "cell_type": "markdown",
   "metadata": {},
   "source": [
    "# <center>FACE RECOGNIZATION</center>"
   ]
  },
  {
   "cell_type": "code",
   "execution_count": 5,
   "metadata": {},
   "outputs": [
    {
     "name": "stdout",
     "output_type": "stream",
     "text": [
      "Collecting opencv-python\n",
      "  Downloading opencv_python-4.6.0.66-cp36-abi3-win_amd64.whl (35.6 MB)\n",
      "Requirement already satisfied: numpy>=1.17.3 in c:\\users\\pc\\anaconda3\\lib\\site-packages (from opencv-python) (1.21.5)\n",
      "Installing collected packages: opencv-pythonNote: you may need to restart the kernel to use updated packages.\n",
      "Successfully installed opencv-python-4.6.0.66\n",
      "\n"
     ]
    }
   ],
   "source": []
  },
  {
   "cell_type": "markdown",
   "metadata": {},
   "source": [
    "# Importing Libraries"
   ]
  },
  {
   "cell_type": "code",
   "execution_count": 6,
   "metadata": {},
   "outputs": [],
   "source": [
    "import os\n",
    "import cv2\n",
    "import numpy as np\n",
    "import scipy.linalg as s_linalg\n"
   ]
  },
  {
   "cell_type": "markdown",
   "metadata": {},
   "source": [
    "# Class DataSet Protocol"
   ]
  },
  {
   "cell_type": "code",
   "execution_count": null,
   "metadata": {},
   "outputs": [],
   "source": []
  },
  {
   "cell_type": "code",
   "execution_count": 7,
   "metadata": {},
   "outputs": [],
   "source": [
    "class dataset:\n",
    "    def __init__(self):\n",
    "        # Diractory Name\n",
    "        self.dir = (\"C:\\\\Users\\\\PC\\\\Downloads\\\\1-(Tue&Wed)DAA109986\\\\Project\\\\FR\\\\Final\\\\Images\" )\n",
    "        \n",
    "        #Image Hight And Width\n",
    "        self.hight = 112\n",
    "        self.width = 92\n",
    "        \n",
    "        #10: 7 train, 3 test\n",
    "        \n",
    "        #Image Size\n",
    "        self.size = self.hight * self.width\n",
    "        # List To Store Training Image\n",
    "        self.StoreTrainImagesName = []\n",
    "        # List To Store Person Number of All Images\n",
    "        self.TrainIndex = []\n",
    "        # List To Store How Many Images Of Each person\n",
    "        self.CountEachpersonImage_Train = []\n",
    "       \n",
    "        # List To Store Test Image\n",
    "        self.StoretestImagesName = []\n",
    "        # List To Store Person Number of All Images Testing\n",
    "        self.testIndex = []\n",
    "        # List To Store Person Number of All Images\n",
    "        self.CountEachpersonImage_test = []\n",
    "        \n",
    "        # List To Store Subject Name For Ecuilidien Distance\n",
    "        self.IndexTarget= []\n",
    "        \n",
    "        # Matrix To Store the Vector Calling In GetImageVector() Function\n",
    "        self.ImgVector_matrix = np.zeros((10304,280))                   # Size  10304 x 280\n",
    "        \n",
    "        # mat = np.zeros((2,2))\n",
    "        # mat = [0,0\n",
    "        #         0,0]\n",
    "            \n",
    "    def ProtoCol(self,required_no):\n",
    "        per_no = 0\n",
    "        \n",
    "        # For get Folder Name In to Directory\n",
    "        for name in os.listdir(self.dir):\n",
    "            dir_path = os.path.join(self.dir, name)\n",
    "            \n",
    "            # self.dir = (\"D:\\\\KIET\\\\4thSem\\\\DMTheory\\\\Project\\\\Help\\\\PROJECT\\\\PROJECT\\\\ORL\" )\n",
    "            #name = S1, S2, S3 .. , s40\n",
    "            # dir_path = \"D:\\\\KIET\\\\4thSem\\\\DMTheory\\\\Project\\\\Help\\\\PROJECT\\\\PROJECT\\\\ORL\\\\S41\"\n",
    "            \n",
    "            #Condition is Directory is Available\n",
    "            if os.path.isdir(dir_path):\n",
    "                if len(os.listdir(dir_path)) >= required_no:\n",
    "                    i = 0\n",
    "                    # For get Image Name In to Folder\n",
    "                    for img_name in os.listdir(dir_path):\n",
    "                        img_path = os.path.join(dir_path, img_name)\n",
    "\n",
    "                        # dir_path = \"D:\\\\KIET\\\\4thSem\\\\DMTheory\\\\Project\\\\Help\\\\PROJECT\\\\PROJECT\\\\ORL\\\\S1\"\n",
    "                        # img_name = 1.pgm, 2.pgm .. 7.pgm\n",
    "                        # img_path = \"D:\\\\KIET\\\\4thSem\\\\DMTheory\\\\Project\\\\Help\\\\PROJECT\\\\PROJECT\\\\ORL\\\\S1\\\\1.pgm\"\n",
    "                        \n",
    "                        #training \n",
    "                        # i = 0 to 6 = 7\n",
    "                        if i < required_no: \n",
    "                            \n",
    "                            self.StoreTrainImagesName.append(img_path)  \n",
    "                            self.TrainIndex.append(per_no)  \n",
    "                            \n",
    "                            if len(self.CountEachpersonImage_Train) > per_no: #(7) > 0 => \n",
    "                                self.CountEachpersonImage_Train[per_no] += 1\n",
    "                            else:\n",
    "                                self.CountEachpersonImage_Train.append(1)  \n",
    "                            \n",
    "                            if i == 0:\n",
    "                                self.IndexTarget.append(name) \n",
    "                                # [s1,s2,s3...,s40]\n",
    "                             \n",
    "                        #testing\n",
    "                        # i = 7 to 9 = 7 ,8, 9\n",
    "                        else:\n",
    "                            self.StoretestImagesName.append(img_path)  \n",
    "                            self.testIndex.append(per_no)   \n",
    "                            \n",
    "                            if len(self.CountEachpersonImage_test) > per_no:\n",
    "                                self.CountEachpersonImage_test[per_no] += 1\n",
    "                            else:\n",
    "                                self.CountEachpersonImage_test.append(1)  \n",
    "                        i += 1\n",
    "                    per_no += 1\n",
    "    \n",
    "    def GetImageVector(self):\n",
    "        i = 0\n",
    "        for name in self.StoreTrainImagesName:\n",
    "            # For Read Image\n",
    "            gray = cv2.imread(name, 0)\n",
    "            # For resize Image\n",
    "            gray = cv2.resize(gray, (self.hight, self.width))\n",
    "            # Store pixels In matrix (112 , 92)\n",
    "            mat = np.asmatrix(gray)\n",
    "            # Convert into Vector and Save respective Column\n",
    "            self.ImgVector_matrix[:, i] = mat.ravel()\n",
    "            i += 1\n",
    "        return self.ImgVector_matrix\n"
   ]
  },
  {
   "cell_type": "markdown",
   "metadata": {},
   "source": [
    "# Principal Component Anylasis PCA"
   ]
  },
  {
   "cell_type": "code",
   "execution_count": 8,
   "metadata": {},
   "outputs": [],
   "source": [
    "class Principal_Component_Anylasis:\n",
    "    def __init__(self, VectorImage,TrainImages , TrainIndex , TargetIndex , CountTraining_img): \n",
    "        self.VectorImage = VectorImage\n",
    "        self.CountTraining_img = CountTraining_img\n",
    "        self.TrainImages = TrainImages\n",
    "        self.TrainIndex = TrainIndex\n",
    "        self.TargetIndex = TargetIndex\n",
    "        self.lengthImages = len(TrainImages)\n",
    "        self.size = 112*92\n",
    "        self.Mean_Matrix = np.zeros(self.size)\n",
    "        self.MeanDiff_Matrix = np.zeros((self.size,self.lengthImages)) #10304 x 280\n",
    "        self.Eigan_Space = np.zeros((self.size,self.lengthImages))     #10304 x 280\n",
    "        \n",
    "    def getMean(self):\n",
    "        Mean = np.mean(self.VectorImage,1)\n",
    "        #Transpose of Means\n",
    "        self.Mean_Matrix = np.matrix(Mean).T\n",
    "        # Mean Difference For Each image\n",
    "        self.VectorImage = self.VectorImage - self.Mean_Matrix\n",
    "        print(self.VectorImage)\n",
    "        print(self.VectorImage.shape)\n",
    "    \n",
    "    \n",
    "    def Give_Best_Values(self, EigenValues):\n",
    "        Sum = np.sum(EigenValues)\n",
    "        features = 90\n",
    "        Best = features * Sum/100\n",
    "        temp = 0\n",
    "        BestValue = 0\n",
    "        while temp < Best:\n",
    "            temp += EigenValues[BestValue]\n",
    "            BestValue += 1 \n",
    "        return BestValue\n",
    "\n",
    "    def GiveEigan(self):\n",
    "        Eiganmatrix ,EigenValues ,VectorT=  s_linalg.svd(self.VectorImage, full_matrices=True)\n",
    "        EiganvectorMatrix = np.matrix(Eiganmatrix)\n",
    "        bestValues = self.Give_Best_Values(EigenValues)\n",
    "        self.EigenVector = Eiganmatrix[:, 0:bestValues]\n",
    "        return self.EigenVector\n",
    "    \n",
    "    def EigenSpace(self):\n",
    "        EigenVector = self.GiveEigan()\n",
    "        self.Eigan_Space = np.dot(EigenVector.T, self.VectorImage)\n",
    "        return self.Eigan_Space.T\n",
    "    \n",
    "    def For_textImages(self, test_Image):\n",
    "        img_vec = np.asmatrix(test_Image).ravel()\n",
    "        img_vec = img_vec.T\n",
    "        # Mean of Single Image \n",
    "        _Mean= ((self.Mean_Matrix * len(self.TrainIndex)) + img_vec) / (len(self.TrainIndex) + 1)\n",
    "        # Vector Of Single Image\n",
    "        img_vec = img_vec - _Mean\n",
    "        EigenVector = self.GiveEigan()\n",
    "        EiganSpace = np.dot(EigenVector.T, img_vec)\n",
    "        return EiganSpace\n",
    "        \n",
    "    def Ecluidien_Distance(self, Eigan_Space):\n",
    "        classes = len(self.CountTraining_img) # => 40 \n",
    "        start = 0\n",
    "        EcluidienDistance = []\n",
    "        for i in range(classes):            \n",
    "            Mapping = self.Eigan_Space[:, int(start): int(start + self.CountTraining_img[i])]\n",
    "            mean_temp = np.mean(Mapping, 1)\n",
    "            start = start + self.CountTraining_img[i]\n",
    "            dist = np.linalg.norm(Eigan_Space - mean_temp)\n",
    "            EcluidienDistance.append(dist)   \n",
    "        _min = np.argmin(EcluidienDistance) \n",
    "        return self.TargetIndex[_min]      "
   ]
  },
  {
   "cell_type": "markdown",
   "metadata": {},
   "source": [
    "# Input Outputs"
   ]
  },
  {
   "cell_type": "code",
   "execution_count": 9,
   "metadata": {},
   "outputs": [],
   "source": [
    "requres_images = 7\n",
    "dataset = dataset()\n",
    "\n",
    "trainImage = dataset.StoreTrainImagesName\n",
    "trainingLabel = dataset.TrainIndex\n",
    "No_of_TrainImage = dataset.CountEachpersonImage_Train\n",
    "\n",
    "\n",
    "testImage = dataset.StoretestImagesName\n",
    "testingLabel = dataset.testIndex\n",
    "No_of_testImage = dataset.CountEachpersonImage_test\n",
    "\n",
    "imageTraget = dataset.IndexTarget\n",
    "\n",
    "protocol = dataset.ProtoCol(requres_images)\n",
    "\n",
    "ImageMatrix_to_Vector = dataset.GetImageVector()\n",
    "\n"
   ]
  },
  {
   "cell_type": "markdown",
   "metadata": {},
   "source": [
    "# PCA Object and Loop"
   ]
  },
  {
   "cell_type": "code",
   "execution_count": 10,
   "metadata": {},
   "outputs": [],
   "source": [
    "\n",
    "pca = Principal_Component_Anylasis(ImageMatrix_to_Vector,trainImage,trainingLabel,imageTraget,No_of_TrainImage)\n",
    "EiganVector = pca.GiveEigan()\n",
    "hight = 112\n",
    "width = 92\n",
    "Correct = 0\n",
    "wrong = 0\n",
    "count = 0"
   ]
  },
  {
   "cell_type": "code",
   "execution_count": null,
   "metadata": {},
   "outputs": [
    {
     "name": "stdout",
     "output_type": "stream",
     "text": [
      "Matched : Subject is : p1\n",
      "Matched : Subject is : p1\n",
      "Matched : Subject is : p1\n",
      "Not Matched : Subject is : p1\n",
      "Not Matched : Subject is : p1\n",
      "Not Matched : Subject is : p1\n",
      "Not Matched : Subject is : p1\n",
      "Not Matched : Subject is : p1\n",
      "Not Matched : Subject is : p1\n",
      "Not Matched : Subject is : p1\n",
      "Not Matched : Subject is : p1\n",
      "Not Matched : Subject is : p1\n",
      "Not Matched : Subject is : p1\n",
      "Not Matched : Subject is : p1\n",
      "Not Matched : Subject is : p1\n",
      "Not Matched : Subject is : p1\n",
      "Not Matched : Subject is : p1\n",
      "Not Matched : Subject is : p1\n",
      "Not Matched : Subject is : p1\n",
      "Not Matched : Subject is : p1\n",
      "Not Matched : Subject is : p1\n",
      "Not Matched : Subject is : p1\n",
      "Not Matched : Subject is : p1\n",
      "Not Matched : Subject is : p1\n",
      "Not Matched : Subject is : p1\n",
      "Not Matched : Subject is : p1\n",
      "Not Matched : Subject is : p1\n",
      "Not Matched : Subject is : p1\n",
      "Not Matched : Subject is : p1\n",
      "Not Matched : Subject is : p1\n",
      "Not Matched : Subject is : p1\n",
      "Not Matched : Subject is : p1\n",
      "Not Matched : Subject is : p1\n",
      "Not Matched : Subject is : p1\n",
      "Not Matched : Subject is : p1\n",
      "Not Matched : Subject is : p1\n",
      "Not Matched : Subject is : p1\n",
      "Not Matched : Subject is : p1\n",
      "Not Matched : Subject is : p1\n",
      "Not Matched : Subject is : p1\n",
      "Not Matched : Subject is : p1\n",
      "Not Matched : Subject is : p1\n",
      "Not Matched : Subject is : p1\n",
      "Not Matched : Subject is : p1\n",
      "Not Matched : Subject is : p1\n",
      "Not Matched : Subject is : p1\n",
      "Not Matched : Subject is : p1\n",
      "Not Matched : Subject is : p1\n",
      "Not Matched : Subject is : p1\n",
      "Not Matched : Subject is : p1\n",
      "Not Matched : Subject is : p1\n",
      "Not Matched : Subject is : p1\n"
     ]
    }
   ],
   "source": [
    "for test_Image in testImage:\n",
    "    if not os.path.isfile(test_Image):\n",
    "        continue\n",
    "    gray = cv2.imread(test_Image, 0)\n",
    "    gray = cv2.resize(gray, (hight, width))\n",
    "    \n",
    "    #__For DisPlaying Imge__\n",
    "    Reshaping = np.reshape(gray,[width,hight])\n",
    "    ImgArray = np.array(Reshaping,dtype=np.uint8)\n",
    "    ShowRecize = cv2.resize(ImgArray,(500,500))\n",
    "        \n",
    "    ForText = pca.For_textImages(gray)\n",
    "    \n",
    "    FindSubjectName = pca.Ecluidien_Distance(ForText)\n",
    "    Target_Index = testingLabel[count]\n",
    "\n",
    "    SubjectName = imageTraget[Target_Index]\n",
    "\n",
    "    if FindSubjectName is SubjectName:\n",
    "        Correct +=1\n",
    "        print(f\"Matched : Subject is : {FindSubjectName}\")\n",
    "    else:   \n",
    "        wrong +=1\n",
    "        print(f\"Not Matched : Subject is : {FindSubjectName}\") \n",
    "    \n",
    "    count += 1\n",
    "    \n",
    "print(f\"Total Number Of Matched Image Is : {Correct}\")\n",
    "print(f\"Total Number Of Not Matched Image Is : {wrong}\")"
   ]
  },
  {
   "cell_type": "markdown",
   "metadata": {},
   "source": [
    "# THANK YOU"
   ]
  },
  {
   "cell_type": "code",
   "execution_count": null,
   "metadata": {},
   "outputs": [],
   "source": []
  },
  {
   "cell_type": "code",
   "execution_count": null,
   "metadata": {},
   "outputs": [],
   "source": []
  },
  {
   "cell_type": "code",
   "execution_count": null,
   "metadata": {},
   "outputs": [],
   "source": []
  },
  {
   "cell_type": "code",
   "execution_count": null,
   "metadata": {},
   "outputs": [],
   "source": []
  },
  {
   "cell_type": "code",
   "execution_count": null,
   "metadata": {},
   "outputs": [],
   "source": []
  },
  {
   "cell_type": "code",
   "execution_count": null,
   "metadata": {},
   "outputs": [],
   "source": []
  },
  {
   "cell_type": "code",
   "execution_count": null,
   "metadata": {},
   "outputs": [],
   "source": []
  },
  {
   "cell_type": "code",
   "execution_count": null,
   "metadata": {},
   "outputs": [],
   "source": []
  },
  {
   "cell_type": "code",
   "execution_count": null,
   "metadata": {},
   "outputs": [],
   "source": []
  },
  {
   "cell_type": "code",
   "execution_count": null,
   "metadata": {},
   "outputs": [],
   "source": [
    "# Mean Difference: Zero mean, it's movement is zero.\n",
    "# calculate varience of dataset (mean zero)\n",
    "# varience:\n",
    "# (Generates a new pattren)\n",
    "# (tells connection between data either it is directly propotional or inversly propostional through + - sign)\n",
    "# (sign has more worth than magnitude)\n",
    "# Through variance we find EigenSpace which is based on Eigen Value and Eigen Vector\n",
    "# Eigen Value and Eigen Vector help us in selecting dimensions\n",
    "# we map data of (mean difference) on Eigen vector's dimensions\n",
    "#\n"
   ]
  }
 ],
 "metadata": {
  "kernelspec": {
   "display_name": "Python 3 (ipykernel)",
   "language": "python",
   "name": "python3"
  },
  "language_info": {
   "codemirror_mode": {
    "name": "ipython",
    "version": 3
   },
   "file_extension": ".py",
   "mimetype": "text/x-python",
   "name": "python",
   "nbconvert_exporter": "python",
   "pygments_lexer": "ipython3",
   "version": "3.9.12"
  }
 },
 "nbformat": 4,
 "nbformat_minor": 4
}
